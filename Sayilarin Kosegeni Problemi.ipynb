{
 "cells": [
  {
   "cell_type": "markdown",
   "id": "a8e3ecb2",
   "metadata": {},
   "source": [
    "<p>1 rakamından başlayarak ve saat yönünde sağa doğru hareket ederek 5'e 5 spiral aşağıdaki gibi oluşturulur:</p>\n",
    "<p class=\"monospace center\"><span class=\"red\"><b>21</b></span> 22 23 24 <span class=\"red\"><b>25</b></span><br />\n",
    "20  <span class=\"red\"><b>7</b></span>  8  <span class=\"red\"><b>9</b></span> 10<br />\n",
    "19  6  <span class=\"red\"><b>1</b></span>  2 11<br />\n",
    "18  <span class=\"red\"><b>5</b></span>  4  <span class=\"red\"><b>3</b></span> 12<br /><span class=\"red\"><b>17</b></span> 16 15 14 <span class=\"red\"><b>13</b></span></p>\n",
    "<p>Köşegenlerdeki sayıların toplamının 101 olduğu doğrulanabilir.</p><p> Aynı şekilde oluşturulmuş 1001'e 1001'lik bir spiralde köşegenler üzerindeki sayıların toplamı kaçtır?</p>\n"
   ]
  },
  {
   "cell_type": "code",
   "execution_count": 14,
   "id": "8e307262",
   "metadata": {},
   "outputs": [],
   "source": [
    "#fark ikişer artacak\n",
    "#istenen değer 1.002.002"
   ]
  },
  {
   "cell_type": "code",
   "execution_count": 1,
   "id": "7f6adb50",
   "metadata": {},
   "outputs": [
    {
     "name": "stdout",
     "output_type": "stream",
     "text": [
      "101\n"
     ]
    }
   ],
   "source": [
    "toplam=1\n",
    "sayac=0\n",
    "fark=2\n",
    "sayi=1\n",
    "for i in range(1,26):\n",
    "    if (i==sayi+fark):\n",
    "        sayi=fark+sayi\n",
    "        toplam+=i\n",
    "        sayac+=1\n",
    "    if sayac==4:\n",
    "        sayac=0\n",
    "        fark+=2\n",
    "print(toplam)"
   ]
  },
  {
   "cell_type": "code",
   "execution_count": 2,
   "id": "f1250df8",
   "metadata": {},
   "outputs": [
    {
     "name": "stdout",
     "output_type": "stream",
     "text": [
      "669171001\n"
     ]
    }
   ],
   "source": [
    "toplam=1\n",
    "sayac=0\n",
    "fark=2\n",
    "sayi=1\n",
    "for i in range(1,1002002):\n",
    "    if (i==sayi+fark):\n",
    "        sayi=fark+sayi\n",
    "        toplam+=i\n",
    "        sayac+=1\n",
    "    if sayac==4:\n",
    "        sayac=0\n",
    "        fark+=2\n",
    "print(toplam)"
   ]
  },
  {
   "cell_type": "code",
   "execution_count": null,
   "id": "957916cb",
   "metadata": {},
   "outputs": [],
   "source": []
  }
 ],
 "metadata": {
  "kernelspec": {
   "display_name": "Python 3 (ipykernel)",
   "language": "python",
   "name": "python3"
  },
  "language_info": {
   "codemirror_mode": {
    "name": "ipython",
    "version": 3
   },
   "file_extension": ".py",
   "mimetype": "text/x-python",
   "name": "python",
   "nbconvert_exporter": "python",
   "pygments_lexer": "ipython3",
   "version": "3.9.12"
  }
 },
 "nbformat": 4,
 "nbformat_minor": 5
}
